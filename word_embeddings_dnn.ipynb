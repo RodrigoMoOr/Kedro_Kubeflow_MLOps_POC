{
 "cells": [
  {
   "cell_type": "code",
   "execution_count": 1,
   "metadata": {},
   "outputs": [],
   "source": [
    "import numpy as np\n",
    "import pandas as pd\n",
    "import matplotlib.pyplot as plt\n",
    "import tensorflow as tf\n",
    "from tensorflow import keras"
   ]
  },
  {
   "cell_type": "code",
   "execution_count": 2,
   "metadata": {},
   "outputs": [
    {
     "data": {
      "text/html": [
       "<div>\n",
       "<style scoped>\n",
       "    .dataframe tbody tr th:only-of-type {\n",
       "        vertical-align: middle;\n",
       "    }\n",
       "\n",
       "    .dataframe tbody tr th {\n",
       "        vertical-align: top;\n",
       "    }\n",
       "\n",
       "    .dataframe thead th {\n",
       "        text-align: right;\n",
       "    }\n",
       "</style>\n",
       "<table border=\"1\" class=\"dataframe\">\n",
       "  <thead>\n",
       "    <tr style=\"text-align: right;\">\n",
       "      <th></th>\n",
       "      <th>Reviews</th>\n",
       "      <th>Sentiment</th>\n",
       "    </tr>\n",
       "  </thead>\n",
       "  <tbody>\n",
       "    <tr>\n",
       "      <th>0</th>\n",
       "      <td>&lt;START this film was just brilliant casting lo...</td>\n",
       "      <td>positive</td>\n",
       "    </tr>\n",
       "    <tr>\n",
       "      <th>1</th>\n",
       "      <td>&lt;START big hair big boobs bad music and a gian...</td>\n",
       "      <td>negative</td>\n",
       "    </tr>\n",
       "    <tr>\n",
       "      <th>2</th>\n",
       "      <td>&lt;START this has to be one of the worst films o...</td>\n",
       "      <td>negative</td>\n",
       "    </tr>\n",
       "    <tr>\n",
       "      <th>3</th>\n",
       "      <td>&lt;START the &lt;UNK&gt; &lt;UNK&gt; at storytelling the tra...</td>\n",
       "      <td>positive</td>\n",
       "    </tr>\n",
       "    <tr>\n",
       "      <th>4</th>\n",
       "      <td>&lt;START worst mistake of my life br br i picked...</td>\n",
       "      <td>negative</td>\n",
       "    </tr>\n",
       "  </tbody>\n",
       "</table>\n",
       "</div>"
      ],
      "text/plain": [
       "                                             Reviews Sentiment\n",
       "0  <START this film was just brilliant casting lo...  positive\n",
       "1  <START big hair big boobs bad music and a gian...  negative\n",
       "2  <START this has to be one of the worst films o...  negative\n",
       "3  <START the <UNK> <UNK> at storytelling the tra...  positive\n",
       "4  <START worst mistake of my life br br i picked...  negative"
      ]
     },
     "execution_count": 2,
     "metadata": {},
     "output_type": "execute_result"
    }
   ],
   "source": [
    "imdb_review_df = pd.read_csv('data/imdb_reviews.csv')\n",
    "test_review_df = pd.read_csv('data/test_reviews.csv')\n",
    "imdb_review_df.head()"
   ]
  },
  {
   "cell_type": "code",
   "execution_count": 3,
   "metadata": {},
   "outputs": [
    {
     "name": "stdout",
     "output_type": "stream",
     "text": [
      "{'negative', 'positive'}\n"
     ]
    }
   ],
   "source": [
    "print(set(imdb_review_df.Sentiment))"
   ]
  },
  {
   "cell_type": "code",
   "execution_count": 4,
   "metadata": {},
   "outputs": [
    {
     "data": {
      "text/html": [
       "<div>\n",
       "<style scoped>\n",
       "    .dataframe tbody tr th:only-of-type {\n",
       "        vertical-align: middle;\n",
       "    }\n",
       "\n",
       "    .dataframe tbody tr th {\n",
       "        vertical-align: top;\n",
       "    }\n",
       "\n",
       "    .dataframe thead th {\n",
       "        text-align: right;\n",
       "    }\n",
       "</style>\n",
       "<table border=\"1\" class=\"dataframe\">\n",
       "  <thead>\n",
       "    <tr style=\"text-align: right;\">\n",
       "      <th></th>\n",
       "      <th>Words</th>\n",
       "      <th>Indexes</th>\n",
       "    </tr>\n",
       "  </thead>\n",
       "  <tbody>\n",
       "    <tr>\n",
       "      <th>0</th>\n",
       "      <td>tsukino</td>\n",
       "      <td>52009</td>\n",
       "    </tr>\n",
       "    <tr>\n",
       "      <th>1</th>\n",
       "      <td>nunnery</td>\n",
       "      <td>52010</td>\n",
       "    </tr>\n",
       "    <tr>\n",
       "      <th>2</th>\n",
       "      <td>sonja</td>\n",
       "      <td>16819</td>\n",
       "    </tr>\n",
       "    <tr>\n",
       "      <th>3</th>\n",
       "      <td>vani</td>\n",
       "      <td>63954</td>\n",
       "    </tr>\n",
       "    <tr>\n",
       "      <th>4</th>\n",
       "      <td>woods</td>\n",
       "      <td>1411</td>\n",
       "    </tr>\n",
       "  </tbody>\n",
       "</table>\n",
       "</div>"
      ],
      "text/plain": [
       "     Words  Indexes\n",
       "0  tsukino    52009\n",
       "1  nunnery    52010\n",
       "2    sonja    16819\n",
       "3     vani    63954\n",
       "4    woods     1411"
      ]
     },
     "execution_count": 4,
     "metadata": {},
     "output_type": "execute_result"
    }
   ],
   "source": [
    "word_indexes_df = pd.read_csv('data/word_indexes.csv')\n",
    "word_indexes_df.head()"
   ]
  },
  {
   "cell_type": "code",
   "execution_count": 5,
   "metadata": {},
   "outputs": [],
   "source": [
    "word_indexes = dict(zip(word_indexes_df.Words, word_indexes_df.Indexes))\n",
    "word_indexes[\"<PAD>\"]=0\n",
    "word_indexes[\"<START\"]=1\n",
    "word_indexes[\"<UNK>\"]=2\n",
    "word_indexes[\"<UNUSED>\"]=3"
   ]
  },
  {
   "cell_type": "code",
   "execution_count": 6,
   "metadata": {},
   "outputs": [],
   "source": [
    "import nltk\n",
    "\n",
    "def text_encoder(text: str):\n",
    "  # tokens = nltk.word_tokenize(text)\n",
    "  # encoding = [word_indexes[token] for token in tokens]\n",
    "  \n",
    "  encoding = [word_indexes[word] for word in text.split()]\n",
    "\n",
    "  return encoding"
   ]
  },
  {
   "cell_type": "code",
   "execution_count": 7,
   "metadata": {},
   "outputs": [],
   "source": [
    "train_data,train_labels = imdb_review_df['Reviews'], imdb_review_df['Sentiment']\n",
    "test_data, test_labels = test_review_df['Reviews'], test_review_df['Sentiment']"
   ]
  },
  {
   "cell_type": "code",
   "execution_count": 8,
   "metadata": {},
   "outputs": [
    {
     "data": {
      "text/plain": [
       "\"<START this film was just brilliant casting location scenery story direction everyone's really suited the part they played and you could just imagine being there robert <UNK> is an amazing actor and now the same being director <UNK> father came from the same scottish island as myself so i loved the fact there was a real connection with this film the witty remarks throughout the film were great it was just brilliant so much that i bought the film as soon as it was released for <UNK> and would recommend it to everyone to watch and the fly fishing was amazing really cried at the end it was so sad and you know what they say if you cry at a film it must have been good and this definitely was also <UNK> to the two little boy's that played the <UNK> of norman and paul they were just brilliant children are often left out of the <UNK> list i think because the stars that play them all grown up are such a big profile for the whole film but these children are amazing and should be praised for what they have done don't you think the whole story was so lovely because it was true and was someone's life after all that was shared with us all\""
      ]
     },
     "execution_count": 8,
     "metadata": {},
     "output_type": "execute_result"
    }
   ],
   "source": [
    "train_data[0]"
   ]
  },
  {
   "cell_type": "code",
   "execution_count": 9,
   "metadata": {},
   "outputs": [],
   "source": [
    "train_data = train_data.apply(text_encoder)\n",
    "test_data = test_data.apply(text_encoder)"
   ]
  },
  {
   "cell_type": "code",
   "execution_count": 10,
   "metadata": {},
   "outputs": [
    {
     "data": {
      "text/plain": [
       "0    [1, 14, 22, 16, 43, 530, 973, 1622, 1385, 65, ...\n",
       "1    [1, 194, 1153, 194, 8255, 78, 228, 5, 6, 1463,...\n",
       "2    [1, 14, 47, 8, 30, 31, 7, 4, 249, 108, 7, 4, 5...\n",
       "3    [1, 4, 2, 2, 33, 2804, 4, 2040, 432, 111, 153,...\n",
       "4    [1, 249, 1323, 7, 61, 113, 10, 10, 13, 1637, 1...\n",
       "Name: Reviews, dtype: object"
      ]
     },
     "execution_count": 10,
     "metadata": {},
     "output_type": "execute_result"
    }
   ],
   "source": [
    "train_data.head()"
   ]
  },
  {
   "cell_type": "code",
   "execution_count": 11,
   "metadata": {},
   "outputs": [],
   "source": [
    "def sentiment_encoder(sentiment: str) -> int:\n",
    "  if sentiment == 'positive':\n",
    "    return 1\n",
    "  else: \n",
    "    return 0"
   ]
  },
  {
   "cell_type": "code",
   "execution_count": 12,
   "metadata": {},
   "outputs": [],
   "source": [
    "train_labels = train_labels.apply(sentiment_encoder)\n",
    "test_labels = test_labels.apply(sentiment_encoder)"
   ]
  },
  {
   "cell_type": "code",
   "execution_count": 13,
   "metadata": {},
   "outputs": [],
   "source": [
    "train_data = keras.preprocessing.sequence.pad_sequences(\n",
    "    train_data, value=word_indexes[\"<PAD>\"], padding='post', maxlen=500)\n",
    "test_data = keras.preprocessing.sequence.pad_sequences(\n",
    "    test_data, value=word_indexes[\"<PAD>\"], padding='post', maxlen=500)"
   ]
  },
  {
   "cell_type": "code",
   "execution_count": 14,
   "metadata": {},
   "outputs": [],
   "source": [
    "model = keras.Sequential([\n",
    "    keras.layers.Embedding(10000, 16, input_length=500),\n",
    "    keras.layers.GlobalAveragePooling1D(),\n",
    "    keras.layers.Dense(16, activation='relu'),\n",
    "    keras.layers.Dense(1, activation='sigmoid')\n",
    "    ])"
   ]
  },
  {
   "cell_type": "code",
   "execution_count": 15,
   "metadata": {},
   "outputs": [],
   "source": [
    "model.compile(optimizer='adam',loss='binary_crossentropy',metrics=['accuracy'])"
   ]
  },
  {
   "cell_type": "code",
   "execution_count": 16,
   "metadata": {},
   "outputs": [
    {
     "name": "stdout",
     "output_type": "stream",
     "text": [
      "Model: \"sequential\"\n",
      "_________________________________________________________________\n",
      " Layer (type)                Output Shape              Param #   \n",
      "=================================================================\n",
      " embedding (Embedding)       (None, 500, 16)           160000    \n",
      "                                                                 \n",
      " global_average_pooling1d (G  (None, 16)               0         \n",
      " lobalAveragePooling1D)                                          \n",
      "                                                                 \n",
      " dense (Dense)               (None, 16)                272       \n",
      "                                                                 \n",
      " dense_1 (Dense)             (None, 1)                 17        \n",
      "                                                                 \n",
      "=================================================================\n",
      "Total params: 160,289\n",
      "Trainable params: 160,289\n",
      "Non-trainable params: 0\n",
      "_________________________________________________________________\n"
     ]
    }
   ],
   "source": [
    "model.summary()"
   ]
  },
  {
   "cell_type": "code",
   "execution_count": 17,
   "metadata": {},
   "outputs": [
    {
     "name": "stdout",
     "output_type": "stream",
     "text": [
      "Epoch 1/30\n",
      "49/49 [==============================] - 4s 58ms/step - loss: 0.6918 - accuracy: 0.5694 - val_loss: 0.6899 - val_accuracy: 0.6252\n",
      "Epoch 2/30\n",
      "49/49 [==============================] - 2s 50ms/step - loss: 0.6842 - accuracy: 0.6920 - val_loss: 0.6773 - val_accuracy: 0.6622\n",
      "Epoch 3/30\n",
      "49/49 [==============================] - 2s 50ms/step - loss: 0.6617 - accuracy: 0.7378 - val_loss: 0.6468 - val_accuracy: 0.7670\n",
      "Epoch 4/30\n",
      "49/49 [==============================] - 2s 50ms/step - loss: 0.6184 - accuracy: 0.7796 - val_loss: 0.5980 - val_accuracy: 0.7874\n",
      "Epoch 5/30\n",
      "49/49 [==============================] - 2s 51ms/step - loss: 0.5590 - accuracy: 0.8116 - val_loss: 0.5414 - val_accuracy: 0.8081\n",
      "Epoch 6/30\n",
      "49/49 [==============================] - 3s 65ms/step - loss: 0.4963 - accuracy: 0.8346 - val_loss: 0.4871 - val_accuracy: 0.8186\n",
      "Epoch 7/30\n",
      "49/49 [==============================] - 3s 56ms/step - loss: 0.4393 - accuracy: 0.8555 - val_loss: 0.4403 - val_accuracy: 0.8395\n",
      "Epoch 8/30\n",
      "49/49 [==============================] - 3s 55ms/step - loss: 0.3924 - accuracy: 0.8689 - val_loss: 0.4038 - val_accuracy: 0.8537\n",
      "Epoch 9/30\n",
      "49/49 [==============================] - 3s 64ms/step - loss: 0.3554 - accuracy: 0.8797 - val_loss: 0.3769 - val_accuracy: 0.8612\n",
      "Epoch 10/30\n",
      "49/49 [==============================] - 3s 54ms/step - loss: 0.3265 - accuracy: 0.8884 - val_loss: 0.3559 - val_accuracy: 0.8665\n",
      "Epoch 11/30\n",
      "49/49 [==============================] - 3s 54ms/step - loss: 0.3035 - accuracy: 0.8948 - val_loss: 0.3400 - val_accuracy: 0.8703\n",
      "Epoch 12/30\n",
      "49/49 [==============================] - 2s 45ms/step - loss: 0.2850 - accuracy: 0.9015 - val_loss: 0.3277 - val_accuracy: 0.8740\n",
      "Epoch 13/30\n",
      "49/49 [==============================] - 2s 41ms/step - loss: 0.2687 - accuracy: 0.9066 - val_loss: 0.3186 - val_accuracy: 0.8760\n",
      "Epoch 14/30\n",
      "49/49 [==============================] - 2s 42ms/step - loss: 0.2545 - accuracy: 0.9110 - val_loss: 0.3103 - val_accuracy: 0.8792\n",
      "Epoch 15/30\n",
      "49/49 [==============================] - 3s 65ms/step - loss: 0.2426 - accuracy: 0.9150 - val_loss: 0.3048 - val_accuracy: 0.8796\n",
      "Epoch 16/30\n",
      "49/49 [==============================] - 2s 49ms/step - loss: 0.2321 - accuracy: 0.9190 - val_loss: 0.2994 - val_accuracy: 0.8816\n",
      "Epoch 17/30\n",
      "49/49 [==============================] - 2s 47ms/step - loss: 0.2218 - accuracy: 0.9226 - val_loss: 0.2978 - val_accuracy: 0.8810\n",
      "Epoch 18/30\n",
      "49/49 [==============================] - 3s 57ms/step - loss: 0.2136 - accuracy: 0.9255 - val_loss: 0.2931 - val_accuracy: 0.8833\n",
      "Epoch 19/30\n",
      "49/49 [==============================] - 3s 57ms/step - loss: 0.2047 - accuracy: 0.9304 - val_loss: 0.2897 - val_accuracy: 0.8853\n",
      "Epoch 20/30\n",
      "49/49 [==============================] - 2s 46ms/step - loss: 0.1972 - accuracy: 0.9322 - val_loss: 0.2882 - val_accuracy: 0.8855\n",
      "Epoch 21/30\n",
      "49/49 [==============================] - 3s 55ms/step - loss: 0.1906 - accuracy: 0.9340 - val_loss: 0.2876 - val_accuracy: 0.8851\n",
      "Epoch 22/30\n",
      "49/49 [==============================] - 3s 52ms/step - loss: 0.1840 - accuracy: 0.9372 - val_loss: 0.2854 - val_accuracy: 0.8862\n",
      "Epoch 23/30\n",
      "49/49 [==============================] - 3s 56ms/step - loss: 0.1777 - accuracy: 0.9391 - val_loss: 0.2856 - val_accuracy: 0.8871\n",
      "Epoch 24/30\n",
      "49/49 [==============================] - 3s 59ms/step - loss: 0.1725 - accuracy: 0.9420 - val_loss: 0.2856 - val_accuracy: 0.8865\n",
      "Epoch 25/30\n",
      "49/49 [==============================] - 2s 45ms/step - loss: 0.1669 - accuracy: 0.9435 - val_loss: 0.2882 - val_accuracy: 0.8859\n",
      "Epoch 26/30\n",
      "49/49 [==============================] - 2s 42ms/step - loss: 0.1627 - accuracy: 0.9450 - val_loss: 0.2884 - val_accuracy: 0.8850\n",
      "Epoch 27/30\n",
      "49/49 [==============================] - 2s 42ms/step - loss: 0.1571 - accuracy: 0.9478 - val_loss: 0.2895 - val_accuracy: 0.8854\n",
      "Epoch 28/30\n",
      "49/49 [==============================] - 3s 54ms/step - loss: 0.1525 - accuracy: 0.9498 - val_loss: 0.2890 - val_accuracy: 0.8854\n",
      "Epoch 29/30\n",
      "49/49 [==============================] - 2s 48ms/step - loss: 0.1484 - accuracy: 0.9510 - val_loss: 0.2918 - val_accuracy: 0.8857\n",
      "Epoch 30/30\n",
      "49/49 [==============================] - 2s 45ms/step - loss: 0.1444 - accuracy: 0.9524 - val_loss: 0.2920 - val_accuracy: 0.8859\n"
     ]
    }
   ],
   "source": [
    "history = model.fit(train_data, train_labels, epochs=30,\n",
    "                    batch_size=512, validation_data=(test_data, test_labels))"
   ]
  },
  {
   "cell_type": "code",
   "execution_count": 18,
   "metadata": {},
   "outputs": [
    {
     "name": "stdout",
     "output_type": "stream",
     "text": [
      "Reviews      <START horrible horrible movie i still can't b...\n",
      "Sentiment                                             negative\n",
      "Name: 405, dtype: object\n"
     ]
    }
   ],
   "source": [
    "index = np.random.randint(1, 1000)\n",
    "user_review = test_review_df.loc[index]\n",
    "print(user_review)"
   ]
  },
  {
   "cell_type": "code",
   "execution_count": 19,
   "metadata": {},
   "outputs": [
    {
     "name": "stdout",
     "output_type": "stream",
     "text": [
      "1/1 [==============================] - 0s 462ms/step\n",
      "negative sentiment\n"
     ]
    }
   ],
   "source": [
    "user_review = test_data[index]\n",
    "user_review = np.array([user_review])\n",
    "if (model.predict(user_review) > 0.5).astype(\"int32\"):\n",
    "  print(\"positive sentiment\")\n",
    "else:\n",
    "  print(\"negative sentiment\")\n"
   ]
  }
 ],
 "metadata": {
  "kernelspec": {
   "display_name": "Python 3.10.5 ('venv': venv)",
   "language": "python",
   "name": "python3"
  },
  "language_info": {
   "codemirror_mode": {
    "name": "ipython",
    "version": 3
   },
   "file_extension": ".py",
   "mimetype": "text/x-python",
   "name": "python",
   "nbconvert_exporter": "python",
   "pygments_lexer": "ipython3",
   "version": "3.10.5"
  },
  "orig_nbformat": 4,
  "vscode": {
   "interpreter": {
    "hash": "c0f1c366766a836eae421a9ddb90e0d4d927ea01deb72fbd9113cea0ab1240cb"
   }
  }
 },
 "nbformat": 4,
 "nbformat_minor": 2
}
